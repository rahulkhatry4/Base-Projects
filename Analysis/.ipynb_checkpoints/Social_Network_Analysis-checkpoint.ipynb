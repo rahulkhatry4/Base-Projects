{
 "cells": [
  {
   "cell_type": "code",
   "execution_count": 1,
   "metadata": {
    "collapsed": true
   },
   "outputs": [],
   "source": [
    "import numpy as np\n",
    "import pandas as pd\n",
    "\n",
    "import networkx as nx\n",
    "import community\n",
    "\n",
    "%matplotlib inline"
   ]
  },
  {
   "cell_type": "markdown",
   "metadata": {},
   "source": [
    "# Importing the data\n",
    "\n",
    "The dataset used is the Huawei Social Network Dataset\n",
    "\n",
    "<a>https://www.kaggle.com/andrewlucci/huawei-social-network-data</a>\n",
    "\n",
    "\"Huawei Facebook Communication Network is Directed and Labeled having 1000 nodes and 250315 edges\""
   ]
  },
  {
   "cell_type": "code",
   "execution_count": 2,
   "metadata": {
    "collapsed": true
   },
   "outputs": [],
   "source": [
    "facebook_network = pd.read_excel(\"D:\\\\Working_Directory\\\\github\\\\five families\\\\Other Analysis\\\\huawei-social-network-data\\\\Facebook_Data.xlsx\")"
   ]
  },
  {
   "cell_type": "markdown",
   "metadata": {},
   "source": [
    "# Creating the Network\n",
    "\n",
    "Networkx is used to create a graphical database of the data provided and network analysis techniques can then us used over this database to obtain the results mentioned below"
   ]
  },
  {
   "cell_type": "code",
   "execution_count": 3,
   "metadata": {
    "collapsed": true
   },
   "outputs": [],
   "source": [
    "friends_index = dict([(i,x.replace('\\xa0', '').strip()) for i,x in enumerate(facebook_network.columns)])\n",
    "FG = nx.from_numpy_matrix(facebook_network.values)\n",
    "FG = nx.relabel_nodes(FG, friends_index)"
   ]
  },
  {
   "cell_type": "markdown",
   "metadata": {},
   "source": [
    "# Analyzing the Network"
   ]
  },
  {
   "cell_type": "markdown",
   "metadata": {},
   "source": [
    "### 1) Checking who has most connections \n",
    "(Degree Centrality)"
   ]
  },
  {
   "cell_type": "code",
   "execution_count": 4,
   "metadata": {
    "collapsed": false
   },
   "outputs": [
    {
     "data": {
      "text/plain": [
       "[('Engkos Kosasih', 0.12712712712712712),\n",
       " ('Ernie', 0.12712712712712712),\n",
       " ('Zack', 0.12612612612612611),\n",
       " ('Fahad Rehman', 0.12612612612612611),\n",
       " ('Sylvia', 0.12512512512512514),\n",
       " ('Umtiti', 0.12512512512512514),\n",
       " ('Asghar', 0.12412412412412413),\n",
       " ('Abdullah Khan', 0.12412412412412413),\n",
       " ('Ahmed', 0.12312312312312312),\n",
       " ('Noor', 0.12312312312312312)]"
      ]
     },
     "execution_count": 4,
     "metadata": {},
     "output_type": "execute_result"
    }
   ],
   "source": [
    "degree_centrality = nx.degree_centrality(FG)\n",
    "sorted(degree_centrality.items(), key = lambda x: x[1], reverse = True)[:10]"
   ]
  },
  {
   "cell_type": "markdown",
   "metadata": {},
   "source": [
    "### 2) Who can spread the words the fastest\n",
    "(Closeness Centrality)"
   ]
  },
  {
   "cell_type": "code",
   "execution_count": 5,
   "metadata": {
    "collapsed": false
   },
   "outputs": [
    {
     "data": {
      "text/plain": [
       "[('Engkos Kosasih', 0.5339390700160342),\n",
       " ('Ernie', 0.5339390700160342),\n",
       " ('Zack', 0.5336538461538461),\n",
       " ('Fahad Rehman', 0.5336538461538461),\n",
       " ('Sylvia', 0.5333689268553123),\n",
       " ('Umtiti', 0.5333689268553123),\n",
       " ('Asghar', 0.5330843116328708),\n",
       " ('Abdullah Khan', 0.5330843116328708),\n",
       " ('Ahmed', 0.5328),\n",
       " ('Noor', 0.5328)]"
      ]
     },
     "execution_count": 5,
     "metadata": {},
     "output_type": "execute_result"
    }
   ],
   "source": [
    "closeness_centrality = nx.closeness_centrality(FG)\n",
    "sorted(closeness_centrality.items(), key = lambda x: x[1], reverse = True)[:10]"
   ]
  },
  {
   "cell_type": "markdown",
   "metadata": {},
   "source": [
    "### 3) Who are links between different communities\n",
    "(Betweenness Centrality)"
   ]
  },
  {
   "cell_type": "code",
   "execution_count": 6,
   "metadata": {
    "collapsed": false
   },
   "outputs": [
    {
     "data": {
      "text/plain": [
       "[('Ernie', 0.0014707100121539671),\n",
       " ('Engkos Kosasih', 0.001468302758588729),\n",
       " ('Sylvia', 0.0014362752642014785),\n",
       " ('Zack', 0.001424673955649196),\n",
       " ('Fahad Rehman', 0.0014158890999055739),\n",
       " ('Umtiti', 0.0014049614919470785),\n",
       " ('Noor', 0.0013690865209203418),\n",
       " ('Ahmed', 0.0013598774834562945),\n",
       " ('Asghar', 0.0013592802253661346),\n",
       " ('Abdullah Khan', 0.001357846062184436)]"
      ]
     },
     "execution_count": 6,
     "metadata": {},
     "output_type": "execute_result"
    }
   ],
   "source": [
    "betweenness_centrality = nx.betweenness_centrality(FG)\n",
    "sorted(betweenness_centrality.items(), key = lambda x: x[1], reverse = True)[:10]"
   ]
  },
  {
   "cell_type": "markdown",
   "metadata": {},
   "source": [
    "### 4) Who is connected to other well connected people\n",
    "(Eigenvector Centrality)"
   ]
  },
  {
   "cell_type": "code",
   "execution_count": 7,
   "metadata": {
    "collapsed": false
   },
   "outputs": [
    {
     "data": {
      "text/plain": [
       "[('Zack', 0.03962809694363545),\n",
       " ('Engkos Kosasih', 0.03951208314544457),\n",
       " ('Fahad Rehman', 0.03950195657561689),\n",
       " ('Ernie', 0.03948123752745665),\n",
       " ('Abdullah Khan', 0.0392275311969346),\n",
       " ('Umtiti', 0.03916855664094581),\n",
       " ('Asghar', 0.03915401163608041),\n",
       " ('Subhaan', 0.03887034598012996),\n",
       " ('Sylvia', 0.03872472666754339),\n",
       " ('Carlo', 0.03871228327215511)]"
      ]
     },
     "execution_count": 7,
     "metadata": {},
     "output_type": "execute_result"
    }
   ],
   "source": [
    "eigenvector_centrality = nx.eigenvector_centrality(FG)\n",
    "sorted(eigenvector_centrality.items(), key = lambda x: x[1], reverse = True)[:10]"
   ]
  },
  {
   "cell_type": "markdown",
   "metadata": {},
   "source": [
    "### 5) Generating friend suggestions through mutual friends\n",
    "(Jaccard Coefficient)"
   ]
  },
  {
   "cell_type": "code",
   "execution_count": 8,
   "metadata": {
    "collapsed": false
   },
   "outputs": [
    {
     "data": {
      "text/plain": [
       "[(('Arisha', 'Ajengan Masduki'), 0.13903743315508021),\n",
       " (('Zachariah', 'Elsa'), 0.13636363636363635),\n",
       " (('Haseeb Ali', 'Musarrat'), 0.13450292397660818),\n",
       " (('Aneel', 'Rawail'), 0.1323529411764706),\n",
       " (('Muzayin Abdul Wahab', 'William'), 0.13106796116504854),\n",
       " (('Daisy', 'Keiron'), 0.13043478260869565),\n",
       " (('Trump', 'Muhammad Irfan'), 0.13020833333333334),\n",
       " (('Neha Ch', 'Robbie'), 0.12994350282485875),\n",
       " (('Zulqurnain', 'Shayan'), 0.12962962962962962),\n",
       " (('Hashim Jutt', 'Bakhtawar'), 0.12953367875647667)]"
      ]
     },
     "execution_count": 8,
     "metadata": {},
     "output_type": "execute_result"
    }
   ],
   "source": [
    "jaccard_coefficient = nx.jaccard_coefficient(FG)\n",
    "\n",
    "jaccard_coefficient_dict = {}\n",
    "\n",
    "for u,v,p in jaccard_coefficient:\n",
    "    jaccard_coefficient_dict[(u,v)] = p\n",
    "    \n",
    "sorted(jaccard_coefficient_dict.items(), key = lambda x: x[1], reverse = True)[:10]"
   ]
  },
  {
   "cell_type": "markdown",
   "metadata": {},
   "source": [
    "### 6) More socially active people might want to talk to or get to know each other\n",
    "(Preferential Attachment)"
   ]
  },
  {
   "cell_type": "code",
   "execution_count": 9,
   "metadata": {
    "collapsed": false
   },
   "outputs": [
    {
     "data": {
      "text/plain": [
       "[(('Engkos Kosasih', 'Ernie'), 16129),\n",
       " (('Engkos Kosasih', 'Fahad Rehman'), 16002),\n",
       " (('Fahad Rehman', 'Ernie'), 16002),\n",
       " (('Ernie', 'Zack'), 16002),\n",
       " (('Umtiti', 'Ernie'), 15875),\n",
       " (('Engkos Kosasih', 'Sylvia'), 15875),\n",
       " (('Ernie', 'Sylvia'), 15875),\n",
       " (('Umtiti', 'Fahad Rehman'), 15750),\n",
       " (('Fahad Rehman', 'Sylvia'), 15750),\n",
       " (('Zack', 'Sylvia'), 15750)]"
      ]
     },
     "execution_count": 9,
     "metadata": {},
     "output_type": "execute_result"
    }
   ],
   "source": [
    "pref_ps = nx.preferential_attachment(FG)\n",
    "\n",
    "pref_coefficient_dict = {}\n",
    "\n",
    "for u,v,p in pref_ps:\n",
    "    pref_coefficient_dict[(u,v)] = p\n",
    "    \n",
    "sorted(pref_coefficient_dict.items(), key = lambda x: x[1], reverse = True)[:10]"
   ]
  }
 ],
 "metadata": {
  "kernelspec": {
   "display_name": "Python 3",
   "language": "python",
   "name": "python3"
  },
  "language_info": {
   "codemirror_mode": {
    "name": "ipython",
    "version": 3
   },
   "file_extension": ".py",
   "mimetype": "text/x-python",
   "name": "python",
   "nbconvert_exporter": "python",
   "pygments_lexer": "ipython3",
   "version": "3.6.6"
  }
 },
 "nbformat": 4,
 "nbformat_minor": 2
}
