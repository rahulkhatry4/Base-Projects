{
 "cells": [
  {
   "cell_type": "code",
   "execution_count": 1,
   "metadata": {
    "collapsed": true
   },
   "outputs": [],
   "source": [
    "from __future__ import absolute_import, division, print_function\n",
    "\n",
    "import tensorflow as tf\n",
    "import numpy as np\n",
    "import os\n",
    "import pandas as pd\n",
    "import pathlib\n",
    "import random\n",
    "\n",
    "#tf.logging.set_verbosity(tf.logging.INFO)"
   ]
  },
  {
   "cell_type": "code",
   "execution_count": 2,
   "metadata": {
    "collapsed": true
   },
   "outputs": [],
   "source": [
    "# Im using the MNIST as jpeg dataset from kaggle \n",
    "# https://www.kaggle.com/scolianni/mnistasjpg\n",
    "\n",
    "input_file_location = 'Path to dataset'"
   ]
  },
  {
   "cell_type": "markdown",
   "metadata": {},
   "source": [
    "# Defining the function to return an appropriate input function for the estimator"
   ]
  },
  {
   "cell_type": "code",
   "execution_count": 13,
   "metadata": {
    "collapsed": true
   },
   "outputs": [],
   "source": [
    "def get_input_fn(mode, input_file_location, batch_size):\n",
    "    \n",
    "    def preprocess_image(image):\n",
    "        image = tf.image.decode_jpeg(image, channels=1)\n",
    "        image = tf.image.resize_images(image, [28, 28])\n",
    "        image /= 255.0  # normalize to [0,1] range\n",
    "        return image\n",
    "\n",
    "    def load_and_preprocess_image(path):\n",
    "        image = tf.read_file(path)\n",
    "        return preprocess_image(image)\n",
    "\n",
    "    def load_and_preprocess_from_path_label(path, label):\n",
    "        return load_and_preprocess_image(path), tf.string_to_number(label, out_type=tf.int32)\n",
    "    \n",
    "    def _input_fn():\n",
    "        \n",
    "        data_root = pathlib.Path(input_file_location)\n",
    "        \n",
    "        ### Generating Lables from Directory Names\n",
    "        label_names = sorted(item.name for item in data_root.glob('*/') if item.is_dir())\n",
    "        \n",
    "        label_to_index = dict((name, index) for index,name in enumerate(label_names))\n",
    "        \n",
    "        ### Getting Image paths\n",
    "        all_image_paths = list(data_root.glob('*/*'))\n",
    "        all_image_paths = [str(path) for path in all_image_paths if '.jpg' in str(path)]\n",
    "        random.shuffle(all_image_paths)\n",
    "        \n",
    "        image_count = len(all_image_paths)\n",
    "        \n",
    "        all_image_labels = [pathlib.Path(path).parent.name for path in all_image_paths]\n",
    "        \n",
    "        \n",
    "        full_dataset = tf.data.Dataset.from_tensor_slices((all_image_paths, all_image_labels)).map(load_and_preprocess_from_path_label)\n",
    "        \n",
    "        full_dataset = full_dataset.shuffle(4).repeat().batch(batch_size).prefetch(buffer_size=8)\n",
    "        \n",
    "        \n",
    "        images, labels = full_dataset.make_one_shot_iterator().get_next()\n",
    "        \n",
    "        return images, labels\n",
    "    \n",
    "    return _input_fn"
   ]
  },
  {
   "cell_type": "markdown",
   "metadata": {},
   "source": [
    "# Defining the convolutional neural network function"
   ]
  },
  {
   "cell_type": "code",
   "execution_count": 14,
   "metadata": {
    "collapsed": false
   },
   "outputs": [],
   "source": [
    "def cnn_model_fn(features, labels, mode, params):\n",
    "    \"\"\"Model function for CNN.\"\"\"\n",
    "    # Input Laye\n",
    "    # Convolutional Layer #1\n",
    "    layer_init = tf.layers.conv2d(inputs = features, filters=1,kernel_size=[1, 1],padding=\"same\")\n",
    "    input_layer = tf.reshape(layer_init, [-1, 28, 28, 1])\n",
    "    conv1 = tf.layers.conv2d(\n",
    "      inputs=input_layer,\n",
    "      filters=32,\n",
    "      kernel_size=[5, 5],\n",
    "      padding=\"same\",\n",
    "      activation=tf.nn.relu)\n",
    "\n",
    "    # Pooling Layer #1\n",
    "    pool1 = tf.layers.max_pooling2d(inputs=conv1, pool_size=[2, 2], strides=2)\n",
    "\n",
    "    # Convolutional Layer #2 and Pooling Layer #2\n",
    "    conv2 = tf.layers.conv2d(\n",
    "      inputs=pool1,\n",
    "      filters=64,\n",
    "      kernel_size=[5, 5],\n",
    "      padding=\"same\",\n",
    "      activation=tf.nn.relu)\n",
    "    pool2 = tf.layers.max_pooling2d(inputs=conv2, pool_size=[2, 2], strides=2)\n",
    "\n",
    "    # Dense Layer\n",
    "    pool2_flat = tf.reshape(pool2, [-1, 7 * 7 * 64])\n",
    "    dense = tf.layers.dense(inputs=pool2_flat, units=1024, activation=tf.nn.relu)\n",
    "    dropout = tf.layers.dropout(\n",
    "      inputs=dense, rate=0.4, training=mode == tf.estimator.ModeKeys.TRAIN)\n",
    "\n",
    "    # Logits Layer\n",
    "    logits = tf.layers.dense(inputs=dropout, units=params.num_classes)\n",
    "\n",
    "    predictions = {\n",
    "      # Generate predictions (for PREDICT and EVAL mode)\n",
    "      \"classes\": tf.argmax(input=logits, axis=1),\n",
    "      # Add `softmax_tensor` to the graph. It is used for PREDICT and by the\n",
    "      # `logging_hook`.\n",
    "      \"probabilities\": tf.nn.softmax(logits, name=\"softmax_tensor\")\n",
    "    }\n",
    "\n",
    "    if mode == tf.estimator.ModeKeys.PREDICT:\n",
    "        return tf.estimator.EstimatorSpec(mode=mode, predictions=predictions)\n",
    "\n",
    "    # Calculate Loss (for both TRAIN and EVAL modes)\n",
    "    loss = tf.losses.sparse_softmax_cross_entropy(labels=labels, logits=logits)\n",
    "\n",
    "    # Configure the Training Op (for TRAIN mode)\n",
    "    if mode == tf.estimator.ModeKeys.TRAIN:\n",
    "        optimizer = tf.train.GradientDescentOptimizer(learning_rate=params.learning_rate)\n",
    "        train_op = optimizer.minimize(\n",
    "            loss=loss,\n",
    "            global_step=tf.train.get_global_step())\n",
    "        return tf.estimator.EstimatorSpec(mode=mode, loss=loss, train_op=train_op)\n",
    "\n",
    "    # Add evaluation metrics (for EVAL mode)\n",
    "    eval_metric_ops = {\n",
    "      \"accuracy\": tf.metrics.accuracy(\n",
    "          labels=labels, predictions=predictions[\"classes\"])\n",
    "    }\n",
    "    return tf.estimator.EstimatorSpec(\n",
    "      mode=mode, loss=loss, eval_metric_ops=eval_metric_ops)"
   ]
  },
  {
   "cell_type": "markdown",
   "metadata": {},
   "source": [
    "# Function for initializing the estimator"
   ]
  },
  {
   "cell_type": "code",
   "execution_count": 15,
   "metadata": {
    "collapsed": true
   },
   "outputs": [],
   "source": [
    "def create_estimator_and_specs(run_config):\n",
    "    \"\"\"Creates an Experiment configuration based on the estimator and input fn.\"\"\"\n",
    "    model_params = tf.contrib.training.HParams(\n",
    "        batch_size=32,\n",
    "        num_classes=10,\n",
    "        learning_rate=0.01)\n",
    "\n",
    "    estimator = tf.estimator.Estimator(\n",
    "        model_fn=cnn_model_fn,\n",
    "        config=run_config,\n",
    "        params=model_params)\n",
    "\n",
    "    train_spec = tf.estimator.TrainSpec(input_fn=get_input_fn(\n",
    "        mode=tf.estimator.ModeKeys.TRAIN,\n",
    "        input_file_location=input_file_location,\n",
    "        batch_size=32), max_steps=5)\n",
    "\n",
    "    eval_spec = tf.estimator.EvalSpec(input_fn=get_input_fn(\n",
    "        mode=tf.estimator.ModeKeys.EVAL,\n",
    "        input_file_location=input_file_location,\n",
    "        batch_size=32))\n",
    "\n",
    "    return estimator, train_spec, eval_spec"
   ]
  },
  {
   "cell_type": "markdown",
   "metadata": {},
   "source": [
    "# Creating the estimator"
   ]
  },
  {
   "cell_type": "code",
   "execution_count": 16,
   "metadata": {
    "collapsed": false
   },
   "outputs": [
    {
     "name": "stdout",
     "output_type": "stream",
     "text": [
      "INFO:tensorflow:Using config: {'_model_dir': 'cnn_outside', '_tf_random_seed': None, '_save_summary_steps': 100, '_save_checkpoints_steps': None, '_save_checkpoints_secs': 300, '_session_config': allow_soft_placement: true\n",
      "graph_options {\n",
      "  rewrite_options {\n",
      "    meta_optimizer_iterations: ONE\n",
      "  }\n",
      "}\n",
      ", '_keep_checkpoint_max': 5, '_keep_checkpoint_every_n_hours': 10000, '_log_step_count_steps': 100, '_train_distribute': None, '_device_fn': None, '_protocol': None, '_eval_distribute': None, '_experimental_distribute': None, '_service': None, '_cluster_spec': <tensorflow.python.training.server_lib.ClusterSpec object at 0x0000020339B47EB8>, '_task_type': 'worker', '_task_id': 0, '_global_id_in_cluster': 0, '_master': '', '_evaluation_master': '', '_is_chief': True, '_num_ps_replicas': 0, '_num_worker_replicas': 1}\n"
     ]
    }
   ],
   "source": [
    "estimator, train_spec, eval_spec = create_estimator_and_specs(\n",
    "        run_config=tf.estimator.RunConfig(\n",
    "        model_dir=\"cnn_outside\",\n",
    "        save_checkpoints_secs=300,\n",
    "        save_summary_steps=100))"
   ]
  },
  {
   "cell_type": "markdown",
   "metadata": {},
   "source": [
    "# Starting the training"
   ]
  },
  {
   "cell_type": "code",
   "execution_count": 17,
   "metadata": {
    "collapsed": false
   },
   "outputs": [
    {
     "name": "stdout",
     "output_type": "stream",
     "text": [
      "INFO:tensorflow:Not using Distribute Coordinator.\n",
      "INFO:tensorflow:Running training and evaluation locally (non-distributed).\n",
      "INFO:tensorflow:Start train and evaluate loop. The evaluate will happen after every checkpoint. Checkpoint frequency is determined based on RunConfig arguments: save_checkpoints_steps None or save_checkpoints_secs 300.\n",
      "INFO:tensorflow:Calling model_fn.\n",
      "INFO:tensorflow:Done calling model_fn.\n",
      "INFO:tensorflow:Create CheckpointSaverHook.\n",
      "INFO:tensorflow:Graph was finalized.\n",
      "INFO:tensorflow:Restoring parameters from cnn_outside\\model.ckpt-0\n",
      "INFO:tensorflow:Running local_init_op.\n",
      "INFO:tensorflow:Done running local_init_op.\n",
      "INFO:tensorflow:Saving checkpoints for 0 into cnn_outside\\model.ckpt.\n",
      "INFO:tensorflow:loss = 2.4104428, step = 1\n",
      "INFO:tensorflow:Saving checkpoints for 5 into cnn_outside\\model.ckpt.\n",
      "INFO:tensorflow:Calling model_fn.\n",
      "INFO:tensorflow:Done calling model_fn.\n",
      "INFO:tensorflow:Starting evaluation at 2019-04-07-15:29:19\n",
      "INFO:tensorflow:Graph was finalized.\n",
      "INFO:tensorflow:Restoring parameters from cnn_outside\\model.ckpt-5\n",
      "INFO:tensorflow:Running local_init_op.\n",
      "INFO:tensorflow:Done running local_init_op.\n",
      "INFO:tensorflow:Evaluation [10/100]\n",
      "INFO:tensorflow:Evaluation [20/100]\n",
      "INFO:tensorflow:Evaluation [30/100]\n",
      "INFO:tensorflow:Evaluation [40/100]\n",
      "INFO:tensorflow:Evaluation [50/100]\n",
      "INFO:tensorflow:Evaluation [60/100]\n",
      "INFO:tensorflow:Evaluation [70/100]\n",
      "INFO:tensorflow:Evaluation [80/100]\n",
      "INFO:tensorflow:Evaluation [90/100]\n",
      "INFO:tensorflow:Evaluation [100/100]\n",
      "INFO:tensorflow:Finished evaluation at 2019-04-07-15:29:25\n",
      "INFO:tensorflow:Saving dict for global step 5: accuracy = 0.0925, global_step = 5, loss = 2.3041801\n",
      "INFO:tensorflow:Saving 'checkpoint_path' summary for global step 5: cnn_outside\\model.ckpt-5\n",
      "INFO:tensorflow:Loss for final step: 2.309549.\n"
     ]
    },
    {
     "data": {
      "text/plain": [
       "({'accuracy': 0.0925, 'global_step': 5, 'loss': 2.3041801}, [])"
      ]
     },
     "execution_count": 17,
     "metadata": {},
     "output_type": "execute_result"
    }
   ],
   "source": [
    "tf.estimator.train_and_evaluate(estimator, train_spec, eval_spec)"
   ]
  },
  {
   "cell_type": "code",
   "execution_count": null,
   "metadata": {
    "collapsed": true
   },
   "outputs": [],
   "source": []
  }
 ],
 "metadata": {
  "kernelspec": {
   "display_name": "Python 3",
   "language": "python",
   "name": "python3"
  },
  "language_info": {
   "codemirror_mode": {
    "name": "ipython",
    "version": 3
   },
   "file_extension": ".py",
   "mimetype": "text/x-python",
   "name": "python",
   "nbconvert_exporter": "python",
   "pygments_lexer": "ipython3",
   "version": "3.6.6"
  }
 },
 "nbformat": 4,
 "nbformat_minor": 2
}
